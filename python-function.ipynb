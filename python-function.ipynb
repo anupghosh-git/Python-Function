{
 "cells": [
  {
   "cell_type": "markdown",
   "id": "ac0bd6af",
   "metadata": {},
   "source": [
    "## Python Functions\n",
    "\n",
    "1  Function\n",
    "It is a reusable code which we can use again and again\n",
    "\n",
    "easy to debug or change\n",
    "\n",
    "help in management of the code\n",
    "\n",
    "code refactoring\n",
    "\n",
    "avoid repeatation , save time\n",
    "\n",
    "help in breaking down the code\n",
    "\n",
    "when writing a function always include a doc string\n"
   ]
  },
  {
   "cell_type": "markdown",
   "id": "e6a143ff",
   "metadata": {},
   "source": [
    "### Comprehension"
   ]
  },
  {
   "cell_type": "code",
   "execution_count": 3,
   "id": "32b3fbe2",
   "metadata": {
    "ExecuteTime": {
     "end_time": "2022-04-05T16:51:36.330623Z",
     "start_time": "2022-04-05T16:51:36.325503Z"
    }
   },
   "outputs": [
    {
     "name": "stdout",
     "output_type": "stream",
     "text": [
      "[2, 4, 6, 8, 98, 76, 54, 32, 100]\n"
     ]
    }
   ],
   "source": [
    "# Without Comprehension: using for loop\n",
    "\n",
    "myList = [1,2,3,4,5,6,7,8,9,98,87,76,65,54,43,32,21,100]\n",
    "evenlist = []\n",
    "for item in myList:\n",
    "    if item%2 == 0:\n",
    "        evenlist.append(item)\n",
    "print(evenlist)        "
   ]
  },
  {
   "cell_type": "code",
   "execution_count": 5,
   "id": "ed017ea5",
   "metadata": {
    "ExecuteTime": {
     "end_time": "2022-04-05T16:55:23.533915Z",
     "start_time": "2022-04-05T16:55:23.528448Z"
    }
   },
   "outputs": [
    {
     "name": "stdout",
     "output_type": "stream",
     "text": [
      "[2, 4, 6, 8, 98, 76, 54, 32, 100]\n"
     ]
    }
   ],
   "source": [
    "# With Comprehension\n",
    "comprehension_evenlist = [item for item in myList if item%2 == 0]\n",
    "print(comprehension_evenlist)"
   ]
  },
  {
   "cell_type": "code",
   "execution_count": 6,
   "id": "a2cae888",
   "metadata": {
    "ExecuteTime": {
     "end_time": "2022-04-05T16:58:33.069292Z",
     "start_time": "2022-04-05T16:58:33.064041Z"
    }
   },
   "outputs": [
    {
     "name": "stdout",
     "output_type": "stream",
     "text": [
      "[0, 1, 4, 9, 16, 25, 36, 49, 64, 81]\n"
     ]
    }
   ],
   "source": [
    "print([item ** 2 for item in range(10)])"
   ]
  },
  {
   "cell_type": "code",
   "execution_count": 7,
   "id": "123fc418",
   "metadata": {
    "ExecuteTime": {
     "end_time": "2022-04-05T17:02:25.272380Z",
     "start_time": "2022-04-05T17:02:25.266162Z"
    }
   },
   "outputs": [
    {
     "name": "stdout",
     "output_type": "stream",
     "text": [
      "{1: 1, 2: 1, 3: 1, 4: 1, 5: 1, 6: 1, 7: 1, 8: 1, 9: 1, 98: 1, 87: 1, 76: 1, 65: 1, 54: 1, 43: 1, 32: 1, 21: 1, 100: 1}\n"
     ]
    }
   ],
   "source": [
    "# Dictionary Comprhension: Using for loop\n",
    "mydict = {}\n",
    "for item in myList:\n",
    "    mydict[item] = myList.count(item)\n",
    "print(mydict)    \n"
   ]
  },
  {
   "cell_type": "code",
   "execution_count": 11,
   "id": "80ffa191",
   "metadata": {
    "ExecuteTime": {
     "end_time": "2022-04-05T17:08:48.023183Z",
     "start_time": "2022-04-05T17:08:48.018196Z"
    }
   },
   "outputs": [
    {
     "name": "stdout",
     "output_type": "stream",
     "text": [
      "{1: 1, 2: 1, 3: 1, 4: 1, 5: 1, 6: 1, 7: 1, 8: 1, 9: 1, 98: 1, 87: 1, 76: 1, 65: 1, 54: 1, 43: 1, 32: 1, 21: 1, 100: 1}\n"
     ]
    }
   ],
   "source": [
    "# Dictionary Comprhension: Using comprehension method\n",
    "comprehension_mydict = {item:myList.count(item) for item in myList}\n",
    "print(comprehension_mydict)"
   ]
  },
  {
   "cell_type": "markdown",
   "id": "945e4995",
   "metadata": {
    "ExecuteTime": {
     "end_time": "2022-04-06T08:05:22.530671Z",
     "start_time": "2022-04-06T08:05:22.522310Z"
    }
   },
   "source": [
    "### defining a function\n",
    "\n",
    "-\n",
    "\n",
    "```python\n",
    "def func_name(args,----,args,**kwargs):\n",
    "    code\n",
    "\n",
    "```"
   ]
  },
  {
   "cell_type": "code",
   "execution_count": null,
   "id": "1c1127c0",
   "metadata": {},
   "outputs": [],
   "source": [
    "### Python function without argument"
   ]
  },
  {
   "cell_type": "code",
   "execution_count": 12,
   "id": "b6febdba",
   "metadata": {
    "ExecuteTime": {
     "end_time": "2022-04-05T17:12:25.148202Z",
     "start_time": "2022-04-05T17:12:25.141803Z"
    }
   },
   "outputs": [
    {
     "name": "stdout",
     "output_type": "stream",
     "text": [
      "10\n"
     ]
    }
   ],
   "source": [
    "def myfunc():\n",
    "    '''Python function without argument'''\n",
    "    a = 10\n",
    "    return a\n",
    "print(myfunc())"
   ]
  },
  {
   "cell_type": "code",
   "execution_count": 13,
   "id": "c26f3c9b",
   "metadata": {
    "ExecuteTime": {
     "end_time": "2022-04-05T17:13:25.070909Z",
     "start_time": "2022-04-05T17:13:25.058874Z"
    }
   },
   "outputs": [
    {
     "data": {
      "text/plain": [
       "'Python function without argument'"
      ]
     },
     "execution_count": 13,
     "metadata": {},
     "output_type": "execute_result"
    }
   ],
   "source": [
    "#docstring calling\n",
    "myfunc.__doc__"
   ]
  },
  {
   "cell_type": "code",
   "execution_count": 18,
   "id": "36d3e8d5",
   "metadata": {
    "ExecuteTime": {
     "end_time": "2022-04-05T17:30:09.253089Z",
     "start_time": "2022-04-05T17:30:09.247775Z"
    }
   },
   "outputs": [
    {
     "name": "stdout",
     "output_type": "stream",
     "text": [
      "[5, 10, 15, 20, 25, 30, 35, 40, 45, 50]\n"
     ]
    }
   ],
   "source": [
    "def multiplication(x):\n",
    "    '''multiolication fuction : takes a prameter x and return 1 to 11 number multiplied by x'''\n",
    "    return [x* item for item in range(1,11)]\n",
    "print(multiplication(5))"
   ]
  },
  {
   "cell_type": "code",
   "execution_count": 22,
   "id": "f3026f2a",
   "metadata": {
    "ExecuteTime": {
     "end_time": "2022-04-05T17:34:29.947066Z",
     "start_time": "2022-04-05T17:34:29.938425Z"
    }
   },
   "outputs": [
    {
     "name": "stdout",
     "output_type": "stream",
     "text": [
      "This number is odd.\n"
     ]
    }
   ],
   "source": [
    "def noreturn(x):\n",
    "    '''Function will mot return a value rathe than a message'''\n",
    "    if(x%2 == 0):\n",
    "        print(\"This number is even.\")\n",
    "    else:\n",
    "        print(\"This number is odd.\")\n",
    "    \n",
    "noreturn(3)   "
   ]
  },
  {
   "cell_type": "code",
   "execution_count": 24,
   "id": "e9cd3abb",
   "metadata": {
    "ExecuteTime": {
     "end_time": "2022-04-05T17:41:21.101553Z",
     "start_time": "2022-04-05T17:41:21.095816Z"
    }
   },
   "outputs": [
    {
     "name": "stdout",
     "output_type": "stream",
     "text": [
      "{1, 2, 3, 4, 5, 10}\n"
     ]
    }
   ],
   "source": [
    "def listfunction(myList):\n",
    "    '''function will take list as parameter'''\n",
    "    print({item for item in myList})\n",
    "listfunction([1,2,3,4,5,10])"
   ]
  },
  {
   "cell_type": "markdown",
   "id": "2aef12ef",
   "metadata": {},
   "source": [
    "### Nested function\n",
    "- funcion within another function"
   ]
  },
  {
   "cell_type": "code",
   "execution_count": 27,
   "id": "812b939e",
   "metadata": {
    "ExecuteTime": {
     "end_time": "2022-04-05T17:47:22.428079Z",
     "start_time": "2022-04-05T17:47:22.421158Z"
    }
   },
   "outputs": [
    {
     "name": "stdout",
     "output_type": "stream",
     "text": [
      "This message is from the called function\n"
     ]
    }
   ],
   "source": [
    "def nestedfunction(myfunc):\n",
    "    '''This function will take function as a parameter'''\n",
    "    myfunc()\n",
    "def calledfunc():\n",
    "    '''This function is written for general purpose. It will be use as input of the previous function'''\n",
    "    print(\"This message is from the called function\")\n",
    "nestedfunction(calledfunc)    \n",
    "    "
   ]
  },
  {
   "cell_type": "code",
   "execution_count": 41,
   "id": "68c4729c",
   "metadata": {
    "ExecuteTime": {
     "end_time": "2022-04-06T08:00:28.889511Z",
     "start_time": "2022-04-06T08:00:28.861852Z"
    }
   },
   "outputs": [],
   "source": [
    "def fn1():\n",
    "    print(\"this is function 1\")\n",
    "    x=10\n",
    "    def fn2():\n",
    "        x=20\n",
    "        print(\"this is function 2\",x)\n",
    "    fn2()\n",
    "    print(\"the value of the fn\",x)"
   ]
  },
  {
   "cell_type": "code",
   "execution_count": 42,
   "id": "e5330a6f",
   "metadata": {
    "ExecuteTime": {
     "end_time": "2022-04-06T08:00:57.570958Z",
     "start_time": "2022-04-06T08:00:57.564833Z"
    }
   },
   "outputs": [
    {
     "name": "stdout",
     "output_type": "stream",
     "text": [
      "this is function 1\n",
      "this is function 2 20\n",
      "the value of the fn 10\n"
     ]
    }
   ],
   "source": [
    "fn1()"
   ]
  },
  {
   "cell_type": "code",
   "execution_count": 93,
   "id": "8b77a734",
   "metadata": {
    "ExecuteTime": {
     "end_time": "2022-04-06T09:40:22.944894Z",
     "start_time": "2022-04-06T09:40:22.939701Z"
    }
   },
   "outputs": [],
   "source": [
    "def fn1():\n",
    "    print(\"This is function 1\")\n",
    "    def fn2():\n",
    "        print(\"This is function 2\")\n"
   ]
  },
  {
   "cell_type": "code",
   "execution_count": 94,
   "id": "bd9a8d75",
   "metadata": {
    "ExecuteTime": {
     "end_time": "2022-04-06T09:40:34.467641Z",
     "start_time": "2022-04-06T09:40:34.463480Z"
    }
   },
   "outputs": [
    {
     "name": "stdout",
     "output_type": "stream",
     "text": [
      "This is function 1\n"
     ]
    }
   ],
   "source": [
    "fn1()"
   ]
  },
  {
   "cell_type": "code",
   "execution_count": 95,
   "id": "62cba0bf",
   "metadata": {
    "ExecuteTime": {
     "end_time": "2022-04-06T09:40:51.688393Z",
     "start_time": "2022-04-06T09:40:51.666750Z"
    }
   },
   "outputs": [
    {
     "ename": "NameError",
     "evalue": "name 'fn2' is not defined",
     "output_type": "error",
     "traceback": [
      "\u001b[0;31m---------------------------------------------------------------------------\u001b[0m",
      "\u001b[0;31mNameError\u001b[0m                                 Traceback (most recent call last)",
      "Input \u001b[0;32mIn [95]\u001b[0m, in \u001b[0;36m<cell line: 1>\u001b[0;34m()\u001b[0m\n\u001b[0;32m----> 1\u001b[0m \u001b[43mfn2\u001b[49m()\n",
      "\u001b[0;31mNameError\u001b[0m: name 'fn2' is not defined"
     ]
    }
   ],
   "source": [
    "fn2()"
   ]
  },
  {
   "cell_type": "code",
   "execution_count": 96,
   "id": "2ee2d85e",
   "metadata": {
    "ExecuteTime": {
     "end_time": "2022-04-06T09:41:24.308721Z",
     "start_time": "2022-04-06T09:41:24.304910Z"
    }
   },
   "outputs": [],
   "source": [
    "def fn1():\n",
    "    print(\"This is function 1\")\n",
    "    def fn2():\n",
    "        print(\"This is function 2\")\n",
    "    fn2()    "
   ]
  },
  {
   "cell_type": "code",
   "execution_count": 97,
   "id": "7cd420f8",
   "metadata": {
    "ExecuteTime": {
     "end_time": "2022-04-06T09:41:39.432411Z",
     "start_time": "2022-04-06T09:41:39.425158Z"
    }
   },
   "outputs": [
    {
     "name": "stdout",
     "output_type": "stream",
     "text": [
      "This is function 1\n",
      "This is function 2\n"
     ]
    }
   ],
   "source": [
    "fn1()"
   ]
  },
  {
   "cell_type": "code",
   "execution_count": 98,
   "id": "c428698a",
   "metadata": {
    "ExecuteTime": {
     "end_time": "2022-04-06T09:45:02.381351Z",
     "start_time": "2022-04-06T09:45:02.376954Z"
    }
   },
   "outputs": [],
   "source": [
    "def f1(x = 10):\n",
    "    def f2():\n",
    "        return x\n",
    "    return f2()\n",
    "    print(x**10)\n"
   ]
  },
  {
   "cell_type": "code",
   "execution_count": 101,
   "id": "68d1ba91",
   "metadata": {
    "ExecuteTime": {
     "end_time": "2022-04-06T09:45:50.720266Z",
     "start_time": "2022-04-06T09:45:50.716184Z"
    }
   },
   "outputs": [],
   "source": [
    "f = f1()"
   ]
  },
  {
   "cell_type": "code",
   "execution_count": 102,
   "id": "c8fef614",
   "metadata": {
    "ExecuteTime": {
     "end_time": "2022-04-06T09:45:51.261771Z",
     "start_time": "2022-04-06T09:45:51.253654Z"
    }
   },
   "outputs": [
    {
     "data": {
      "text/plain": [
       "10"
      ]
     },
     "execution_count": 102,
     "metadata": {},
     "output_type": "execute_result"
    }
   ],
   "source": [
    "f"
   ]
  },
  {
   "cell_type": "code",
   "execution_count": null,
   "id": "3ead62f3",
   "metadata": {},
   "outputs": [],
   "source": []
  },
  {
   "cell_type": "code",
   "execution_count": null,
   "id": "87628450",
   "metadata": {},
   "outputs": [],
   "source": []
  },
  {
   "cell_type": "code",
   "execution_count": null,
   "id": "a64f7377",
   "metadata": {},
   "outputs": [],
   "source": []
  },
  {
   "cell_type": "markdown",
   "id": "686143f8",
   "metadata": {},
   "source": [
    "### Function arguments or parameter and default argument"
   ]
  },
  {
   "cell_type": "code",
   "execution_count": 28,
   "id": "ff3678ed",
   "metadata": {
    "ExecuteTime": {
     "end_time": "2022-04-05T18:08:53.133564Z",
     "start_time": "2022-04-05T18:08:53.115700Z"
    }
   },
   "outputs": [
    {
     "name": "stdout",
     "output_type": "stream",
     "text": [
      "Name: Sangam\n",
      "Age: 30\n",
      "Profession: Student\n"
     ]
    },
    {
     "data": {
      "text/plain": [
       "'This ia all information I have got'"
      ]
     },
     "execution_count": 28,
     "metadata": {},
     "output_type": "execute_result"
    }
   ],
   "source": [
    "def personalInfo(age, name, profession = \"Student\"):\n",
    "    '''This function takes three parameters/arguments age, name and profession\n",
    "    among them the profession is the defulst argument. Thats mean in calling time \n",
    "    if we do not provide any value for profession argument then it will take the \n",
    "    default value as student'''\n",
    "    print(\"Name: {name}\".format(name = name))\n",
    "    print(\"Age: {0}\".format(age))\n",
    "    print(f'Profession: {profession}'.format(profession))\n",
    "    return \"This ia all information I have got\"\n",
    "#calling with default value of profession parameter\n",
    "personalInfo(30,\"Sangam\")"
   ]
  },
  {
   "cell_type": "code",
   "execution_count": 29,
   "id": "807bbdc0",
   "metadata": {
    "ExecuteTime": {
     "end_time": "2022-04-05T18:36:46.530585Z",
     "start_time": "2022-04-05T18:36:46.515086Z"
    }
   },
   "outputs": [
    {
     "name": "stdout",
     "output_type": "stream",
     "text": [
      "Name: Sangam\n",
      "Age: 30\n",
      "Profession: Teacher\n"
     ]
    },
    {
     "data": {
      "text/plain": [
       "'This ia all information I have got'"
      ]
     },
     "execution_count": 29,
     "metadata": {},
     "output_type": "execute_result"
    }
   ],
   "source": [
    "#calling new value of profession parameter\n",
    "personalInfo(30,\"Sangam\", \"Teacher\")"
   ]
  },
  {
   "cell_type": "code",
   "execution_count": 30,
   "id": "b3d13603",
   "metadata": {
    "ExecuteTime": {
     "end_time": "2022-04-05T18:57:20.645987Z",
     "start_time": "2022-04-05T18:57:20.633000Z"
    }
   },
   "outputs": [
    {
     "name": "stdout",
     "output_type": "stream",
     "text": [
      "Name: Sangam\n",
      "Age: 30\n",
      "Profession: Teacher\n"
     ]
    },
    {
     "data": {
      "text/plain": [
       "'This ia all information I have got'"
      ]
     },
     "execution_count": 30,
     "metadata": {},
     "output_type": "execute_result"
    }
   ],
   "source": [
    "# function calling using keyward(kwards) value parameter\n",
    "personalInfo(age = 30,name = \"Sangam\", profession = \"Teacher\")"
   ]
  },
  {
   "cell_type": "markdown",
   "id": "5dfb61e5",
   "metadata": {
    "ExecuteTime": {
     "end_time": "2022-04-06T09:10:48.816429Z",
     "start_time": "2022-04-06T09:10:48.809495Z"
    }
   },
   "source": [
    "### function with any number of argument\n",
    "\n",
    "- args -- >`*args`\n",
    "    - take any number of argument\n",
    "- kwargs ---> `**kwargs`\n",
    "    - it take any number of key and value\n"
   ]
  },
  {
   "cell_type": "code",
   "execution_count": 49,
   "id": "adaafe06",
   "metadata": {
    "ExecuteTime": {
     "end_time": "2022-04-06T08:07:35.714684Z",
     "start_time": "2022-04-06T08:07:35.708629Z"
    }
   },
   "outputs": [
    {
     "name": "stdout",
     "output_type": "stream",
     "text": [
      "(1, 'fff', 'cc')\n"
     ]
    }
   ],
   "source": [
    "def anyNumArgs(*args):\n",
    "    '''This function takes any number of aruments asl well as any types as input parameter and ath the\n",
    "    calling time we should call as the non kwargs function. The difference between \n",
    "    kwargs and non kwargs function is the use of ** and * respectively before the argument'''\n",
    "    print(args)\n",
    "    \n",
    "anyNumArgs(1,\"fff\",\"cc\")    \n"
   ]
  },
  {
   "cell_type": "code",
   "execution_count": 34,
   "id": "56f00ff7",
   "metadata": {
    "ExecuteTime": {
     "end_time": "2022-04-05T19:17:07.867970Z",
     "start_time": "2022-04-05T19:17:07.860739Z"
    }
   },
   "outputs": [
    {
     "name": "stdout",
     "output_type": "stream",
     "text": [
      "{'a': 'Anup', 'b': 'Apu', 'c': 'Pankaj', 'd': 30}\n"
     ]
    }
   ],
   "source": [
    "def anyNumKwargs(**kwargs):\n",
    "    '''This functiuon is same as non kwargs function rather than the calling \n",
    "    method and using the number of * in the definition'''\n",
    "    print(kwargs)\n",
    "anyNumKwargs(a = \"Anup\", b = \"Apu\", c = \"Pankaj\", d = 30)    \n"
   ]
  },
  {
   "cell_type": "code",
   "execution_count": 35,
   "id": "a44943c1",
   "metadata": {
    "ExecuteTime": {
     "end_time": "2022-04-05T19:23:56.894338Z",
     "start_time": "2022-04-05T19:23:56.886518Z"
    }
   },
   "outputs": [
    {
     "name": "stdout",
     "output_type": "stream",
     "text": [
      "('Data Scence', 'Data Analysis')\n",
      "course\n",
      "Time\n",
      "{'course': ' Machine Learning', 'Time': '5 months'}\n"
     ]
    }
   ],
   "source": [
    "def anyTypeArgs(*args,**kwargs):\n",
    "    '''This function is the combination od any number of args and kwargs function'''\n",
    "    print(args)\n",
    "    for item in kwargs:\n",
    "        print(item)\n",
    "    print(kwargs)\n",
    "    \n",
    "anyTypeArgs(\"Data Scence\",\"Data Analysis\", course = \" Machine Learning\", Time = \"5 months\")    \n",
    "    "
   ]
  },
  {
   "cell_type": "markdown",
   "id": "5776a186",
   "metadata": {},
   "source": [
    "### Lambda Function\n"
   ]
  },
  {
   "cell_type": "markdown",
   "id": "c99cd192",
   "metadata": {},
   "source": [
    "Lambda is a special type of function where we don't need to define the function by \"def\" but use the keyword \"lambda\". The syntax fo lambda function is like: <br>\n",
    "lambda arguments: functional code<br>\n",
    "In short<br>\n",
    "- anonymous function\n",
    "- it is used for carrying out the single expression\n",
    "- lambda function can take any number of args\n",
    "- when you are working with the iterator it comes in handy\n",
    "\n",
    "syntax:\n",
    "    - `lambda variable : expression`\n"
   ]
  },
  {
   "cell_type": "code",
   "execution_count": 36,
   "id": "3a659a7b",
   "metadata": {
    "ExecuteTime": {
     "end_time": "2022-04-05T19:35:25.101528Z",
     "start_time": "2022-04-05T19:35:25.094312Z"
    }
   },
   "outputs": [
    {
     "name": "stdout",
     "output_type": "stream",
     "text": [
      "15\n"
     ]
    }
   ],
   "source": [
    "print((lambda a: a + 5)(10))"
   ]
  },
  {
   "cell_type": "code",
   "execution_count": 37,
   "id": "44082791",
   "metadata": {
    "ExecuteTime": {
     "end_time": "2022-04-05T19:36:10.403732Z",
     "start_time": "2022-04-05T19:36:10.397814Z"
    }
   },
   "outputs": [
    {
     "name": "stdout",
     "output_type": "stream",
     "text": [
      "11\n"
     ]
    }
   ],
   "source": [
    "print((lambda a,b:a+b)(4,7))"
   ]
  },
  {
   "cell_type": "code",
   "execution_count": 38,
   "id": "64270edc",
   "metadata": {
    "ExecuteTime": {
     "end_time": "2022-04-05T19:44:48.523351Z",
     "start_time": "2022-04-05T19:44:48.517837Z"
    }
   },
   "outputs": [
    {
     "name": "stdout",
     "output_type": "stream",
     "text": [
      "11\n"
     ]
    }
   ],
   "source": [
    "x = lambda a,b:a+b\n",
    "print(x(5,6))"
   ]
  },
  {
   "cell_type": "code",
   "execution_count": 40,
   "id": "7479ac8f",
   "metadata": {
    "ExecuteTime": {
     "end_time": "2022-04-05T19:48:27.311426Z",
     "start_time": "2022-04-05T19:48:27.305079Z"
    }
   },
   "outputs": [
    {
     "name": "stdout",
     "output_type": "stream",
     "text": [
      "Learning\n"
     ]
    }
   ],
   "source": [
    "capitalize = lambda x:x.capitalize()\n",
    "print(capitalize(\"learning\"))"
   ]
  },
  {
   "cell_type": "markdown",
   "id": "a09ae619",
   "metadata": {},
   "source": [
    "#### nested lambda"
   ]
  },
  {
   "cell_type": "code",
   "execution_count": 103,
   "id": "e7e84d1d",
   "metadata": {
    "ExecuteTime": {
     "end_time": "2022-04-06T09:55:10.433184Z",
     "start_time": "2022-04-06T09:55:10.429301Z"
    }
   },
   "outputs": [],
   "source": [
    "def mul(a):\n",
    "    def mul_inner(b,c):\n",
    "        return a*b*c\n",
    "    return mul_inner"
   ]
  },
  {
   "cell_type": "code",
   "execution_count": 105,
   "id": "1f453f30",
   "metadata": {
    "ExecuteTime": {
     "end_time": "2022-04-06T09:57:03.795570Z",
     "start_time": "2022-04-06T09:57:03.789580Z"
    }
   },
   "outputs": [
    {
     "data": {
      "text/plain": [
       "40"
      ]
     },
     "execution_count": 105,
     "metadata": {},
     "output_type": "execute_result"
    }
   ],
   "source": [
    "mul(10)(2,2)"
   ]
  },
  {
   "cell_type": "code",
   "execution_count": 117,
   "id": "0995f6f4",
   "metadata": {
    "ExecuteTime": {
     "end_time": "2022-04-06T10:09:27.760722Z",
     "start_time": "2022-04-06T10:09:27.757729Z"
    }
   },
   "outputs": [],
   "source": [
    "#x=lambda a: lambda b,c:a*b*c\n",
    "x = lambda a: a*a"
   ]
  },
  {
   "cell_type": "code",
   "execution_count": 118,
   "id": "6bfad723",
   "metadata": {
    "ExecuteTime": {
     "end_time": "2022-04-06T10:09:28.488742Z",
     "start_time": "2022-04-06T10:09:28.483959Z"
    }
   },
   "outputs": [
    {
     "data": {
      "text/plain": [
       "100"
      ]
     },
     "execution_count": 118,
     "metadata": {},
     "output_type": "execute_result"
    }
   ],
   "source": [
    "x(10)"
   ]
  },
  {
   "cell_type": "code",
   "execution_count": 120,
   "id": "61953644",
   "metadata": {
    "ExecuteTime": {
     "end_time": "2022-04-06T10:10:18.662082Z",
     "start_time": "2022-04-06T10:10:18.658068Z"
    }
   },
   "outputs": [],
   "source": [
    "y=lambda a: lambda b,c:a*b*c"
   ]
  },
  {
   "cell_type": "code",
   "execution_count": 121,
   "id": "97e3c246",
   "metadata": {
    "ExecuteTime": {
     "end_time": "2022-04-06T10:10:20.754957Z",
     "start_time": "2022-04-06T10:10:20.749587Z"
    }
   },
   "outputs": [
    {
     "data": {
      "text/plain": [
       "120"
      ]
     },
     "execution_count": 121,
     "metadata": {},
     "output_type": "execute_result"
    }
   ],
   "source": [
    "y(20)(2,3)"
   ]
  },
  {
   "cell_type": "code",
   "execution_count": 123,
   "id": "62407f83",
   "metadata": {
    "ExecuteTime": {
     "end_time": "2022-04-06T10:17:27.821156Z",
     "start_time": "2022-04-06T10:17:27.813033Z"
    }
   },
   "outputs": [
    {
     "data": {
      "text/plain": [
       "'smaller'"
      ]
     },
     "execution_count": 123,
     "metadata": {},
     "output_type": "execute_result"
    }
   ],
   "source": [
    "(lambda a: lambda b,c:\"greater\" if a>b>c else \"smaller\")(1)(2,2)"
   ]
  },
  {
   "cell_type": "code",
   "execution_count": null,
   "id": "6d7b0dba",
   "metadata": {},
   "outputs": [],
   "source": []
  },
  {
   "cell_type": "markdown",
   "id": "743e7709",
   "metadata": {},
   "source": [
    "### Global and Local Variable\n",
    "\n",
    "- global variable it can be used everywhere\n",
    "- local variable can only be used inside the specific function"
   ]
  },
  {
   "cell_type": "code",
   "execution_count": 81,
   "id": "a8967224",
   "metadata": {
    "ExecuteTime": {
     "end_time": "2022-04-06T09:22:15.372828Z",
     "start_time": "2022-04-06T09:22:15.366527Z"
    }
   },
   "outputs": [
    {
     "data": {
      "text/plain": [
       "10"
      ]
     },
     "execution_count": 81,
     "metadata": {},
     "output_type": "execute_result"
    }
   ],
   "source": [
    "global_var = 10\n",
    "def funcGlobalLocal():\n",
    "    \"\"\"function to check scppe of global variable and local variable\"\"\"\n",
    "    local_var = 10\n",
    "    print(\"Local variable value: \"+ str(local_var))\n",
    "\n",
    "          \n",
    "global_var    \n"
   ]
  },
  {
   "cell_type": "code",
   "execution_count": 82,
   "id": "455c3742",
   "metadata": {
    "ExecuteTime": {
     "end_time": "2022-04-06T09:22:17.339734Z",
     "start_time": "2022-04-06T09:22:17.323386Z"
    }
   },
   "outputs": [
    {
     "ename": "NameError",
     "evalue": "name 'local_var' is not defined",
     "output_type": "error",
     "traceback": [
      "\u001b[0;31m---------------------------------------------------------------------------\u001b[0m",
      "\u001b[0;31mNameError\u001b[0m                                 Traceback (most recent call last)",
      "Input \u001b[0;32mIn [82]\u001b[0m, in \u001b[0;36m<cell line: 1>\u001b[0;34m()\u001b[0m\n\u001b[0;32m----> 1\u001b[0m \u001b[43mlocal_var\u001b[49m\n",
      "\u001b[0;31mNameError\u001b[0m: name 'local_var' is not defined"
     ]
    }
   ],
   "source": [
    "local_var"
   ]
  },
  {
   "cell_type": "code",
   "execution_count": 83,
   "id": "96f4ca72",
   "metadata": {
    "ExecuteTime": {
     "end_time": "2022-04-06T09:22:18.407759Z",
     "start_time": "2022-04-06T09:22:18.403522Z"
    }
   },
   "outputs": [
    {
     "name": "stdout",
     "output_type": "stream",
     "text": [
      "Local variable value: 10\n"
     ]
    }
   ],
   "source": [
    "funcGlobalLocal()"
   ]
  },
  {
   "cell_type": "code",
   "execution_count": 84,
   "id": "323564c7",
   "metadata": {
    "ExecuteTime": {
     "end_time": "2022-04-06T09:32:18.979249Z",
     "start_time": "2022-04-06T09:32:18.971288Z"
    }
   },
   "outputs": [
    {
     "data": {
      "text/plain": [
       "20"
      ]
     },
     "execution_count": 84,
     "metadata": {},
     "output_type": "execute_result"
    }
   ],
   "source": [
    "a =20\n",
    "def checkFunc():\n",
    "    '''function for check about the valur of global fuction'''\n",
    "    a = 10\n",
    "    print(\"value of a: \", a)\n",
    "a    \n"
   ]
  },
  {
   "cell_type": "code",
   "execution_count": 85,
   "id": "e5921812",
   "metadata": {
    "ExecuteTime": {
     "end_time": "2022-04-06T09:32:34.442141Z",
     "start_time": "2022-04-06T09:32:34.436581Z"
    }
   },
   "outputs": [
    {
     "name": "stdout",
     "output_type": "stream",
     "text": [
      "value of a:  10\n"
     ]
    }
   ],
   "source": [
    "checkFunc()"
   ]
  },
  {
   "cell_type": "code",
   "execution_count": 86,
   "id": "f48ea79c",
   "metadata": {
    "ExecuteTime": {
     "end_time": "2022-04-06T09:33:08.891191Z",
     "start_time": "2022-04-06T09:33:08.887965Z"
    }
   },
   "outputs": [],
   "source": [
    "a  = 30"
   ]
  },
  {
   "cell_type": "code",
   "execution_count": 87,
   "id": "53532ede",
   "metadata": {
    "ExecuteTime": {
     "end_time": "2022-04-06T09:33:12.970185Z",
     "start_time": "2022-04-06T09:33:12.964612Z"
    }
   },
   "outputs": [
    {
     "data": {
      "text/plain": [
       "30"
      ]
     },
     "execution_count": 87,
     "metadata": {},
     "output_type": "execute_result"
    }
   ],
   "source": [
    "a"
   ]
  },
  {
   "cell_type": "code",
   "execution_count": 88,
   "id": "a10de1d5",
   "metadata": {
    "ExecuteTime": {
     "end_time": "2022-04-06T09:33:21.347646Z",
     "start_time": "2022-04-06T09:33:21.342241Z"
    }
   },
   "outputs": [
    {
     "name": "stdout",
     "output_type": "stream",
     "text": [
      "value of a:  10\n"
     ]
    }
   ],
   "source": [
    "checkFunc()"
   ]
  },
  {
   "cell_type": "code",
   "execution_count": 89,
   "id": "1bbe339d",
   "metadata": {
    "ExecuteTime": {
     "end_time": "2022-04-06T09:35:05.012389Z",
     "start_time": "2022-04-06T09:35:05.007522Z"
    }
   },
   "outputs": [],
   "source": [
    "def fn1():\n",
    "    print(\"this is function 1\")\n",
    "    x=10\n",
    "    def fn2():\n",
    "        x=20\n",
    "        print(\"this is function 2: \",x)\n",
    "    fn2()\n",
    "    print(\"the value of the function: \",x)"
   ]
  },
  {
   "cell_type": "code",
   "execution_count": 90,
   "id": "5ba34094",
   "metadata": {
    "ExecuteTime": {
     "end_time": "2022-04-06T09:35:11.527064Z",
     "start_time": "2022-04-06T09:35:11.519888Z"
    }
   },
   "outputs": [
    {
     "name": "stdout",
     "output_type": "stream",
     "text": [
      "this is function 1\n",
      "this is function 2:  20\n",
      "the value of the function:  10\n"
     ]
    }
   ],
   "source": [
    "fn1()"
   ]
  },
  {
   "cell_type": "code",
   "execution_count": 91,
   "id": "96d52168",
   "metadata": {
    "ExecuteTime": {
     "end_time": "2022-04-06T09:36:57.043423Z",
     "start_time": "2022-04-06T09:36:57.039586Z"
    }
   },
   "outputs": [],
   "source": [
    "def fn1():\n",
    "    print(\"this is function 1\")\n",
    "    x=10\n",
    "    def fn2():\n",
    "        #x=20\n",
    "        print(\"this is function 2 (inside or local): \",x)\n",
    "    fn2()\n",
    "    print(\"the value of the function(outside or global): \",x)"
   ]
  },
  {
   "cell_type": "code",
   "execution_count": 92,
   "id": "caeb0ff0",
   "metadata": {
    "ExecuteTime": {
     "end_time": "2022-04-06T09:37:06.130330Z",
     "start_time": "2022-04-06T09:37:06.122812Z"
    }
   },
   "outputs": [
    {
     "name": "stdout",
     "output_type": "stream",
     "text": [
      "this is function 1\n",
      "this is function 2 (inside or local):  10\n",
      "the value of the function(outside or global):  10\n"
     ]
    }
   ],
   "source": [
    "fn1()"
   ]
  },
  {
   "cell_type": "markdown",
   "id": "fb3ca2df",
   "metadata": {},
   "source": [
    "## composite function\n",
    "\n",
    "Composite functions\n",
    "A composite function is a function created when one function is used as the input value for another function. Essentially, the output of the inner function (the function used as the input value) becomes the input of the outer function (the resulting value).\n",
    "\n",
    "-https://www.math.net/composite-functions"
   ]
  },
  {
   "cell_type": "code",
   "execution_count": 124,
   "id": "4fc56514",
   "metadata": {
    "ExecuteTime": {
     "end_time": "2022-04-06T10:19:03.639672Z",
     "start_time": "2022-04-06T10:19:03.635179Z"
    }
   },
   "outputs": [],
   "source": [
    "def double(x):\n",
    "    return 2*x\n",
    "def square(x):\n",
    "    return x**2"
   ]
  },
  {
   "cell_type": "code",
   "execution_count": 125,
   "id": "c72f98b5",
   "metadata": {
    "ExecuteTime": {
     "end_time": "2022-04-06T10:19:27.740693Z",
     "start_time": "2022-04-06T10:19:27.736907Z"
    }
   },
   "outputs": [],
   "source": [
    "def f_of_g(f,g,x):\n",
    "    return f(g(x))"
   ]
  },
  {
   "cell_type": "code",
   "execution_count": 126,
   "id": "1d4ea3fc",
   "metadata": {
    "ExecuteTime": {
     "end_time": "2022-04-06T10:19:42.635530Z",
     "start_time": "2022-04-06T10:19:42.630025Z"
    }
   },
   "outputs": [
    {
     "data": {
      "text/plain": [
       "8"
      ]
     },
     "execution_count": 126,
     "metadata": {},
     "output_type": "execute_result"
    }
   ],
   "source": [
    "f_of_g(double,square,2)"
   ]
  },
  {
   "cell_type": "code",
   "execution_count": 127,
   "id": "b1eb2886",
   "metadata": {
    "ExecuteTime": {
     "end_time": "2022-04-06T10:21:44.879816Z",
     "start_time": "2022-04-06T10:21:44.876413Z"
    }
   },
   "outputs": [],
   "source": [
    "def f(x):\n",
    "    return 4*x**2 +3\n",
    "def g(x):\n",
    "    return 2*x+1"
   ]
  },
  {
   "cell_type": "code",
   "execution_count": 129,
   "id": "9485450f",
   "metadata": {
    "ExecuteTime": {
     "end_time": "2022-04-06T10:22:45.197527Z",
     "start_time": "2022-04-06T10:22:45.191954Z"
    }
   },
   "outputs": [
    {
     "data": {
      "text/plain": [
       "103"
      ]
     },
     "execution_count": 129,
     "metadata": {},
     "output_type": "execute_result"
    }
   ],
   "source": [
    "f(g(2)) #--->16*2**2 + 16*2 + 7"
   ]
  },
  {
   "cell_type": "code",
   "execution_count": 130,
   "id": "6ac73173",
   "metadata": {
    "ExecuteTime": {
     "end_time": "2022-04-06T10:23:05.662280Z",
     "start_time": "2022-04-06T10:23:05.656726Z"
    }
   },
   "outputs": [
    {
     "data": {
      "text/plain": [
       "39"
      ]
     },
     "execution_count": 130,
     "metadata": {},
     "output_type": "execute_result"
    }
   ],
   "source": [
    "g(f(2))# ------>8*2**2+7"
   ]
  },
  {
   "cell_type": "code",
   "execution_count": null,
   "id": "2eaac2e1",
   "metadata": {},
   "outputs": [],
   "source": []
  }
 ],
 "metadata": {
  "kernelspec": {
   "display_name": "Python 3 (ipykernel)",
   "language": "python",
   "name": "python3"
  },
  "language_info": {
   "codemirror_mode": {
    "name": "ipython",
    "version": 3
   },
   "file_extension": ".py",
   "mimetype": "text/x-python",
   "name": "python",
   "nbconvert_exporter": "python",
   "pygments_lexer": "ipython3",
   "version": "3.9.7"
  },
  "toc": {
   "base_numbering": 1,
   "nav_menu": {},
   "number_sections": true,
   "sideBar": true,
   "skip_h1_title": false,
   "title_cell": "Table of Contents",
   "title_sidebar": "Contents",
   "toc_cell": false,
   "toc_position": {},
   "toc_section_display": true,
   "toc_window_display": false
  },
  "varInspector": {
   "cols": {
    "lenName": 16,
    "lenType": 16,
    "lenVar": 40
   },
   "kernels_config": {
    "python": {
     "delete_cmd_postfix": "",
     "delete_cmd_prefix": "del ",
     "library": "var_list.py",
     "varRefreshCmd": "print(var_dic_list())"
    },
    "r": {
     "delete_cmd_postfix": ") ",
     "delete_cmd_prefix": "rm(",
     "library": "var_list.r",
     "varRefreshCmd": "cat(var_dic_list()) "
    }
   },
   "types_to_exclude": [
    "module",
    "function",
    "builtin_function_or_method",
    "instance",
    "_Feature"
   ],
   "window_display": false
  }
 },
 "nbformat": 4,
 "nbformat_minor": 5
}
