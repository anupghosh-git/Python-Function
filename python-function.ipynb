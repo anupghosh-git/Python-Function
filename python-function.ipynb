{
 "cells": [
  {
   "cell_type": "markdown",
   "id": "53bf19e8",
   "metadata": {},
   "source": [
    "## Python Functions\n"
   ]
  },
  {
   "cell_type": "markdown",
   "id": "eae1bcf8",
   "metadata": {},
   "source": [
    "### Comprehension"
   ]
  },
  {
   "cell_type": "code",
   "execution_count": 3,
   "id": "9b2ed13b",
   "metadata": {
    "ExecuteTime": {
     "end_time": "2022-04-05T16:51:36.330623Z",
     "start_time": "2022-04-05T16:51:36.325503Z"
    }
   },
   "outputs": [
    {
     "name": "stdout",
     "output_type": "stream",
     "text": [
      "[2, 4, 6, 8, 98, 76, 54, 32, 100]\n"
     ]
    }
   ],
   "source": [
    "# Without Comprehension: using for loop\n",
    "\n",
    "myList = [1,2,3,4,5,6,7,8,9,98,87,76,65,54,43,32,21,100]\n",
    "evenlist = []\n",
    "for item in myList:\n",
    "    if item%2 == 0:\n",
    "        evenlist.append(item)\n",
    "print(evenlist)        "
   ]
  },
  {
   "cell_type": "code",
   "execution_count": 5,
   "id": "d4350ff2",
   "metadata": {
    "ExecuteTime": {
     "end_time": "2022-04-05T16:55:23.533915Z",
     "start_time": "2022-04-05T16:55:23.528448Z"
    }
   },
   "outputs": [
    {
     "name": "stdout",
     "output_type": "stream",
     "text": [
      "[2, 4, 6, 8, 98, 76, 54, 32, 100]\n"
     ]
    }
   ],
   "source": [
    "# With Comprehension\n",
    "comprehension_evenlist = [item for item in myList if item%2 == 0]\n",
    "print(comprehension_evenlist)"
   ]
  },
  {
   "cell_type": "code",
   "execution_count": 6,
   "id": "2c726f30",
   "metadata": {
    "ExecuteTime": {
     "end_time": "2022-04-05T16:58:33.069292Z",
     "start_time": "2022-04-05T16:58:33.064041Z"
    }
   },
   "outputs": [
    {
     "name": "stdout",
     "output_type": "stream",
     "text": [
      "[0, 1, 4, 9, 16, 25, 36, 49, 64, 81]\n"
     ]
    }
   ],
   "source": [
    "print([item ** 2 for item in range(10)])"
   ]
  },
  {
   "cell_type": "code",
   "execution_count": 7,
   "id": "24e68eb0",
   "metadata": {
    "ExecuteTime": {
     "end_time": "2022-04-05T17:02:25.272380Z",
     "start_time": "2022-04-05T17:02:25.266162Z"
    }
   },
   "outputs": [
    {
     "name": "stdout",
     "output_type": "stream",
     "text": [
      "{1: 1, 2: 1, 3: 1, 4: 1, 5: 1, 6: 1, 7: 1, 8: 1, 9: 1, 98: 1, 87: 1, 76: 1, 65: 1, 54: 1, 43: 1, 32: 1, 21: 1, 100: 1}\n"
     ]
    }
   ],
   "source": [
    "# Dictionary Comprhension: Using for loop\n",
    "mydict = {}\n",
    "for item in myList:\n",
    "    mydict[item] = myList.count(item)\n",
    "print(mydict)    \n"
   ]
  },
  {
   "cell_type": "code",
   "execution_count": 11,
   "id": "67d99750",
   "metadata": {
    "ExecuteTime": {
     "end_time": "2022-04-05T17:08:48.023183Z",
     "start_time": "2022-04-05T17:08:48.018196Z"
    }
   },
   "outputs": [
    {
     "name": "stdout",
     "output_type": "stream",
     "text": [
      "{1: 1, 2: 1, 3: 1, 4: 1, 5: 1, 6: 1, 7: 1, 8: 1, 9: 1, 98: 1, 87: 1, 76: 1, 65: 1, 54: 1, 43: 1, 32: 1, 21: 1, 100: 1}\n"
     ]
    }
   ],
   "source": [
    "# Dictionary Comprhension: Using comprehension method\n",
    "comprehension_mydict = {item:myList.count(item) for item in myList}\n",
    "print(comprehension_mydict)"
   ]
  },
  {
   "cell_type": "markdown",
   "id": "310385c4",
   "metadata": {},
   "source": [
    "### Python function without argument"
   ]
  },
  {
   "cell_type": "code",
   "execution_count": 12,
   "id": "8ab49118",
   "metadata": {
    "ExecuteTime": {
     "end_time": "2022-04-05T17:12:25.148202Z",
     "start_time": "2022-04-05T17:12:25.141803Z"
    }
   },
   "outputs": [
    {
     "name": "stdout",
     "output_type": "stream",
     "text": [
      "10\n"
     ]
    }
   ],
   "source": [
    "def myfunc():\n",
    "    '''Python function without argument'''\n",
    "    a = 10\n",
    "    return a\n",
    "print(myfunc())"
   ]
  },
  {
   "cell_type": "code",
   "execution_count": 13,
   "id": "2eaa9799",
   "metadata": {
    "ExecuteTime": {
     "end_time": "2022-04-05T17:13:25.070909Z",
     "start_time": "2022-04-05T17:13:25.058874Z"
    }
   },
   "outputs": [
    {
     "data": {
      "text/plain": [
       "'Python function without argument'"
      ]
     },
     "execution_count": 13,
     "metadata": {},
     "output_type": "execute_result"
    }
   ],
   "source": [
    "#docstring calling\n",
    "myfunc.__doc__"
   ]
  },
  {
   "cell_type": "code",
   "execution_count": 18,
   "id": "4a7ce823",
   "metadata": {
    "ExecuteTime": {
     "end_time": "2022-04-05T17:30:09.253089Z",
     "start_time": "2022-04-05T17:30:09.247775Z"
    }
   },
   "outputs": [
    {
     "name": "stdout",
     "output_type": "stream",
     "text": [
      "[5, 10, 15, 20, 25, 30, 35, 40, 45, 50]\n"
     ]
    }
   ],
   "source": [
    "def multiplication(x):\n",
    "    '''multiolication fuction : takes a prameter x and return 1 to 11 number multiplied by x'''\n",
    "    return [x* item for item in range(1,11)]\n",
    "print(multiplication(5))"
   ]
  },
  {
   "cell_type": "code",
   "execution_count": 22,
   "id": "e8ab6b69",
   "metadata": {
    "ExecuteTime": {
     "end_time": "2022-04-05T17:34:29.947066Z",
     "start_time": "2022-04-05T17:34:29.938425Z"
    }
   },
   "outputs": [
    {
     "name": "stdout",
     "output_type": "stream",
     "text": [
      "This number is odd.\n"
     ]
    }
   ],
   "source": [
    "def noreturn(x):\n",
    "    '''Function will mot return a value rathe than a message'''\n",
    "    if(x%2 == 0):\n",
    "        print(\"This number is even.\")\n",
    "    else:\n",
    "        print(\"This number is odd.\")\n",
    "    \n",
    "noreturn(3)   "
   ]
  },
  {
   "cell_type": "code",
   "execution_count": 24,
   "id": "fda795bc",
   "metadata": {
    "ExecuteTime": {
     "end_time": "2022-04-05T17:41:21.101553Z",
     "start_time": "2022-04-05T17:41:21.095816Z"
    }
   },
   "outputs": [
    {
     "name": "stdout",
     "output_type": "stream",
     "text": [
      "{1, 2, 3, 4, 5, 10}\n"
     ]
    }
   ],
   "source": [
    "def listfunction(myList):\n",
    "    '''function will take list as parameter'''\n",
    "    print({item for item in myList})\n",
    "listfunction([1,2,3,4,5,10])"
   ]
  },
  {
   "cell_type": "code",
   "execution_count": 27,
   "id": "23e9d977",
   "metadata": {
    "ExecuteTime": {
     "end_time": "2022-04-05T17:47:22.428079Z",
     "start_time": "2022-04-05T17:47:22.421158Z"
    }
   },
   "outputs": [
    {
     "name": "stdout",
     "output_type": "stream",
     "text": [
      "This message is from the called function\n"
     ]
    }
   ],
   "source": [
    "def nestedfunction(myfunc):\n",
    "    '''This function will take function as a parameter'''\n",
    "    myfunc()\n",
    "def calledfunc():\n",
    "    '''This function is written for general purpose. It will be use as input of the previous function'''\n",
    "    print(\"This message is from the called function\")\n",
    "nestedfunction(calledfunc)    \n",
    "    "
   ]
  },
  {
   "cell_type": "code",
   "execution_count": 28,
   "id": "7ffb9d06",
   "metadata": {
    "ExecuteTime": {
     "end_time": "2022-04-05T18:08:53.133564Z",
     "start_time": "2022-04-05T18:08:53.115700Z"
    }
   },
   "outputs": [
    {
     "name": "stdout",
     "output_type": "stream",
     "text": [
      "Name: Sangam\n",
      "Age: 30\n",
      "Profession: Student\n"
     ]
    },
    {
     "data": {
      "text/plain": [
       "'This ia all information I have got'"
      ]
     },
     "execution_count": 28,
     "metadata": {},
     "output_type": "execute_result"
    }
   ],
   "source": [
    "def personalInfo(age, name, profession = \"Student\"):\n",
    "    '''This function takes three parameters/arguments age, name and profession\n",
    "    among them the profession is the defulst argument. Thats mean in calling time \n",
    "    if we do not provide any value for profession argument then it will take the \n",
    "    default value as student'''\n",
    "    print(\"Name: {name}\".format(name = name))\n",
    "    print(\"Age: {0}\".format(age))\n",
    "    print(f'Profession: {profession}'.format(profession))\n",
    "    return \"This ia all information I have got\"\n",
    "#calling with default value of profession parameter\n",
    "personalInfo(30,\"Sangam\")"
   ]
  },
  {
   "cell_type": "code",
   "execution_count": 29,
   "id": "9a706f04",
   "metadata": {
    "ExecuteTime": {
     "end_time": "2022-04-05T18:36:46.530585Z",
     "start_time": "2022-04-05T18:36:46.515086Z"
    }
   },
   "outputs": [
    {
     "name": "stdout",
     "output_type": "stream",
     "text": [
      "Name: Sangam\n",
      "Age: 30\n",
      "Profession: Teacher\n"
     ]
    },
    {
     "data": {
      "text/plain": [
       "'This ia all information I have got'"
      ]
     },
     "execution_count": 29,
     "metadata": {},
     "output_type": "execute_result"
    }
   ],
   "source": [
    "#calling new value of profession parameter\n",
    "personalInfo(30,\"Sangam\", \"Teacher\")"
   ]
  },
  {
   "cell_type": "code",
   "execution_count": 30,
   "id": "3ab047b9",
   "metadata": {
    "ExecuteTime": {
     "end_time": "2022-04-05T18:57:20.645987Z",
     "start_time": "2022-04-05T18:57:20.633000Z"
    }
   },
   "outputs": [
    {
     "name": "stdout",
     "output_type": "stream",
     "text": [
      "Name: Sangam\n",
      "Age: 30\n",
      "Profession: Teacher\n"
     ]
    },
    {
     "data": {
      "text/plain": [
       "'This ia all information I have got'"
      ]
     },
     "execution_count": 30,
     "metadata": {},
     "output_type": "execute_result"
    }
   ],
   "source": [
    "# function calling using keyward(kwards) value parameter\n",
    "personalInfo(age = 30,name = \"Sangam\", profession = \"Teacher\")"
   ]
  },
  {
   "cell_type": "code",
   "execution_count": 33,
   "id": "2e400398",
   "metadata": {
    "ExecuteTime": {
     "end_time": "2022-04-05T19:12:05.524209Z",
     "start_time": "2022-04-05T19:12:05.518774Z"
    }
   },
   "outputs": [
    {
     "name": "stdout",
     "output_type": "stream",
     "text": [
      "(1, 'fff', 'cc')\n"
     ]
    }
   ],
   "source": [
    "def anyNumArgs(*args):\n",
    "    '''This function takes any number of aruments asl well as any types as input parameter and ath the\n",
    "    calling time we should call as the non kwargs function. The difference between \n",
    "    kwargs and non kwargs function is the use of ** and * respectively before the argument'''\n",
    "    print(args)\n",
    "    \n",
    "anyNumArgs(1,\"fff\",\"cc\")    \n"
   ]
  },
  {
   "cell_type": "code",
   "execution_count": 34,
   "id": "5df87ac6",
   "metadata": {
    "ExecuteTime": {
     "end_time": "2022-04-05T19:17:07.867970Z",
     "start_time": "2022-04-05T19:17:07.860739Z"
    }
   },
   "outputs": [
    {
     "name": "stdout",
     "output_type": "stream",
     "text": [
      "{'a': 'Anup', 'b': 'Apu', 'c': 'Pankaj', 'd': 30}\n"
     ]
    }
   ],
   "source": [
    "def anyNumKwargs(**kwargs):\n",
    "    '''This functiuon is same as non kwargs function rather than the calling \n",
    "    method and using the number of * in the definition'''\n",
    "    print(kwargs)\n",
    "anyNumKwargs(a = \"Anup\", b = \"Apu\", c = \"Pankaj\", d = 30)    \n"
   ]
  },
  {
   "cell_type": "code",
   "execution_count": 35,
   "id": "31f83c63",
   "metadata": {
    "ExecuteTime": {
     "end_time": "2022-04-05T19:23:56.894338Z",
     "start_time": "2022-04-05T19:23:56.886518Z"
    }
   },
   "outputs": [
    {
     "name": "stdout",
     "output_type": "stream",
     "text": [
      "('Data Scence', 'Data Analysis')\n",
      "course\n",
      "Time\n",
      "{'course': ' Machine Learning', 'Time': '5 months'}\n"
     ]
    }
   ],
   "source": [
    "def anyTypeArgs(*args,**kwargs):\n",
    "    '''This function is the combination od any number of args and kwargs function'''\n",
    "    print(args)\n",
    "    for item in kwargs:\n",
    "        print(item)\n",
    "    print(kwargs)\n",
    "    \n",
    "anyTypeArgs(\"Data Scence\",\"Data Analysis\", course = \" Machine Learning\", Time = \"5 months\")    \n",
    "    "
   ]
  },
  {
   "cell_type": "markdown",
   "id": "af8e96ee",
   "metadata": {},
   "source": [
    "### Lambda Function\n"
   ]
  },
  {
   "cell_type": "markdown",
   "id": "7bd6d0e7",
   "metadata": {},
   "source": [
    "Lambda is a special type of function where we don't need to define the function by \"def\" but use the keyword \"lambda\". The syntax fo lambda function is like: <br>\n",
    "lambda arguments: functional code"
   ]
  },
  {
   "cell_type": "code",
   "execution_count": 36,
   "id": "730a5f90",
   "metadata": {
    "ExecuteTime": {
     "end_time": "2022-04-05T19:35:25.101528Z",
     "start_time": "2022-04-05T19:35:25.094312Z"
    }
   },
   "outputs": [
    {
     "name": "stdout",
     "output_type": "stream",
     "text": [
      "15\n"
     ]
    }
   ],
   "source": [
    "print((lambda a: a + 5)(10))"
   ]
  },
  {
   "cell_type": "code",
   "execution_count": 37,
   "id": "913211d0",
   "metadata": {
    "ExecuteTime": {
     "end_time": "2022-04-05T19:36:10.403732Z",
     "start_time": "2022-04-05T19:36:10.397814Z"
    }
   },
   "outputs": [
    {
     "name": "stdout",
     "output_type": "stream",
     "text": [
      "11\n"
     ]
    }
   ],
   "source": [
    "print((lambda a,b:a+b)(4,7))"
   ]
  },
  {
   "cell_type": "code",
   "execution_count": 38,
   "id": "2c3213b7",
   "metadata": {
    "ExecuteTime": {
     "end_time": "2022-04-05T19:44:48.523351Z",
     "start_time": "2022-04-05T19:44:48.517837Z"
    }
   },
   "outputs": [
    {
     "name": "stdout",
     "output_type": "stream",
     "text": [
      "11\n"
     ]
    }
   ],
   "source": [
    "x = lambda a,b:a+b\n",
    "print(x(5,6))"
   ]
  },
  {
   "cell_type": "code",
   "execution_count": 40,
   "id": "050b51c0",
   "metadata": {
    "ExecuteTime": {
     "end_time": "2022-04-05T19:48:27.311426Z",
     "start_time": "2022-04-05T19:48:27.305079Z"
    }
   },
   "outputs": [
    {
     "name": "stdout",
     "output_type": "stream",
     "text": [
      "Learning\n"
     ]
    }
   ],
   "source": [
    "capitalize = lambda x:x.capitalize()\n",
    "print(capitalize(\"learning\"))"
   ]
  },
  {
   "cell_type": "code",
   "execution_count": null,
   "id": "2795ec8f",
   "metadata": {},
   "outputs": [],
   "source": []
  }
 ],
 "metadata": {
  "kernelspec": {
   "display_name": "Python 3 (ipykernel)",
   "language": "python",
   "name": "python3"
  },
  "language_info": {
   "codemirror_mode": {
    "name": "ipython",
    "version": 3
   },
   "file_extension": ".py",
   "mimetype": "text/x-python",
   "name": "python",
   "nbconvert_exporter": "python",
   "pygments_lexer": "ipython3",
   "version": "3.9.7"
  },
  "toc": {
   "base_numbering": 1,
   "nav_menu": {},
   "number_sections": true,
   "sideBar": true,
   "skip_h1_title": false,
   "title_cell": "Table of Contents",
   "title_sidebar": "Contents",
   "toc_cell": false,
   "toc_position": {},
   "toc_section_display": true,
   "toc_window_display": false
  },
  "varInspector": {
   "cols": {
    "lenName": 16,
    "lenType": 16,
    "lenVar": 40
   },
   "kernels_config": {
    "python": {
     "delete_cmd_postfix": "",
     "delete_cmd_prefix": "del ",
     "library": "var_list.py",
     "varRefreshCmd": "print(var_dic_list())"
    },
    "r": {
     "delete_cmd_postfix": ") ",
     "delete_cmd_prefix": "rm(",
     "library": "var_list.r",
     "varRefreshCmd": "cat(var_dic_list()) "
    }
   },
   "types_to_exclude": [
    "module",
    "function",
    "builtin_function_or_method",
    "instance",
    "_Feature"
   ],
   "window_display": false
  }
 },
 "nbformat": 4,
 "nbformat_minor": 5
}
